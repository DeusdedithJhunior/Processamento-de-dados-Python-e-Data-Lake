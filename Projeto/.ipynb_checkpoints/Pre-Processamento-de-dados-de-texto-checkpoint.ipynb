{
 "cells": [
  {
   "cell_type": "markdown",
   "id": "8f8bb305-c26f-405c-b867-94f12c3e4c47",
   "metadata": {},
   "source": [
    "# Análise de Dados com Linguagem Python\n",
    "\n",
    "### Descrição do Projeto\n",
    "\n",
    "Nesse projeto irei práticar algumas técnicas de pré-processamento de dados de texto. A base de dados, será carregada via comamdos python para dentro de um data lake local (a ferramenta usada para criação desse data lake foi o MongoDB) e em seguida, será carregada para o projeto."
   ]
  },
  {
   "cell_type": "code",
   "execution_count": 1,
   "id": "85b5f651-1998-449d-9c6c-cfdfb6ac5625",
   "metadata": {},
   "outputs": [],
   "source": [
    "# carregando os pacotes necessários\n",
    "\n",
    "import json #para manipulação de arquivos json\n",
    "import pymongo #pacote que permite acessar o mongoDB a partir da linguagem python\n",
    "import numpy as np #para manipualação de dados\n",
    "import pandas as pd #para manipulação de dados\n",
    "import matplotlib.pyplot as plt #criação de graficos\n",
    "import seaborn as sns #criação de graficos\n",
    "import warnings #ignorar warnings\n",
    "warnings.filterwarnings('ignore')"
   ]
  },
  {
   "cell_type": "code",
   "execution_count": 3,
   "id": "2e030f2b-e4dd-4e6c-a024-bbd66c40e471",
   "metadata": {},
   "outputs": [],
   "source": [
    "# conectando ao Data Lake (mongoDB)\n",
    "# abrindo a conexão\n",
    "\n",
    "cliente = pymongo.MongoClient('mongodb://localhost:27017/')"
   ]
  },
  {
   "cell_type": "code",
   "execution_count": 4,
   "id": "97eee9fd-d3db-46e2-81ef-ace8d1896a62",
   "metadata": {},
   "outputs": [
    {
     "data": {
      "text/plain": [
       "MongoClient(host=['localhost:27017'], document_class=dict, tz_aware=False, connect=True)"
      ]
     },
     "execution_count": 4,
     "metadata": {},
     "output_type": "execute_result"
    }
   ],
   "source": [
    "# visualizando a conexão\n",
    "cliente"
   ]
  },
  {
   "cell_type": "code",
   "execution_count": 5,
   "id": "9e1247a8-8fd8-429f-8aaf-9d0b7eca871a",
   "metadata": {},
   "outputs": [],
   "source": [
    "# criando um repositório (banco de dados) chamado datalake\n",
    "datalake = cliente['datalake']\n",
    "\n",
    "# o nome datalake que está entre aspas é o nome do db que será criado dentro do mongoDB e o nome que está\n",
    "# esquerda do sinal de igual é o nome da variável que aponta para esse banco. "
   ]
  },
  {
   "cell_type": "code",
   "execution_count": 6,
   "id": "fa275873-3b27-41cc-aca9-374c76d1db84",
   "metadata": {},
   "outputs": [
    {
     "data": {
      "text/plain": [
       "Database(MongoClient(host=['localhost:27017'], document_class=dict, tz_aware=False, connect=True), 'datalake')"
      ]
     },
     "execution_count": 6,
     "metadata": {},
     "output_type": "execute_result"
    }
   ],
   "source": [
    "# confirmando a criação do banco dentro do mongoDB\n",
    "datalake"
   ]
  },
  {
   "cell_type": "raw",
   "id": "a4455fe8-adf0-448f-972a-f3f2345a4a4b",
   "metadata": {},
   "source": [
    "Em banco de dados relacional, temos tabelas que compõem o banco de dados, como iremos trabalhar com o um db não relacional, esse conceito de tabelas não existem, por isso, podemos dizer que as \"tabelas de um banco não relacional se chamam coleções\".\n",
    "\n",
    "Então, iremos criar em nosso banco de dados que chamos de datalake, uma coleção de dados chamada 'posts'. Mas, antes de criamos essa coleção, somente para fins didáticos, irei apagar qualquer coleção que existir no banco com esse nome, para somente depois criar uma coleção propriamente dita."
   ]
  },
  {
   "cell_type": "code",
   "execution_count": 7,
   "id": "16c9bb63-ebcd-49c7-87cf-fc1f04b7ffc2",
   "metadata": {},
   "outputs": [],
   "source": [
    "# apagando qualquer coleção que já exista no banco com o nome posts\n",
    "\n",
    "datalake.posts.drop()"
   ]
  },
  {
   "cell_type": "code",
   "execution_count": 8,
   "id": "528fc0fa-0a6c-45e7-8bb5-5aecabf97119",
   "metadata": {},
   "outputs": [],
   "source": [
    "# criando coleção com o nome posts\n",
    "\n",
    "posts = datalake['posts']"
   ]
  },
  {
   "cell_type": "markdown",
   "id": "1812a849-059b-4400-931a-ebbdde355972",
   "metadata": {},
   "source": [
    "## Carregando os dados para dentro do data lake"
   ]
  },
  {
   "cell_type": "code",
   "execution_count": 11,
   "id": "e6c08ff0-196c-4531-98e6-71f68e53d712",
   "metadata": {},
   "outputs": [],
   "source": [
    "# carregando o arquivo json para dentro de uma variável\n",
    "\n",
    "with open ('dados/dataset.json') as file:\n",
    "    file_data = json.load(file)"
   ]
  },
  {
   "cell_type": "code",
   "execution_count": 13,
   "id": "76964226-304d-4593-bb52-70a748a3ada7",
   "metadata": {},
   "outputs": [
    {
     "data": {
      "text/plain": [
       "<pymongo.results.InsertManyResult at 0x1881a2f0e50>"
      ]
     },
     "execution_count": 13,
     "metadata": {},
     "output_type": "execute_result"
    }
   ],
   "source": [
    "# jogando para dentro da coleção posts (que está dentro do mongoDB), o arquivo json que foi carregado\n",
    "# para uma variável python. Cada item do arquivo srá um documento.\n",
    "\n",
    "posts.insert_many(file_data, ordered = False, bypass_document_validation = True)"
   ]
  },
  {
   "cell_type": "code",
   "execution_count": 14,
   "id": "7f37e2d4-588a-4809-a9e7-7e50431ff38f",
   "metadata": {},
   "outputs": [
    {
     "data": {
      "text/plain": [
       "{'_id': ObjectId('63d2f372a71284ec921a1e63'),\n",
       " 'status': 'public',\n",
       " 'creationDate': '2017-07-17T20:05:49Z',\n",
       " 'allowComments': True,\n",
       " 'title': 'ligula nec sem duis aliquam',\n",
       " 'description': 'in felis eu sapien cursus vestibulum proin eu mi nulla ac enim in tempor turpis nec euismod scelerisque quam turpis adipiscing lorem vitae mattis nibh ligula nec sem duis aliquam convallis nunc proin at turpis a pede posuere nonummy integer non velit donec diam neque vestibulum eget vulputate ut ultrices vel augue vestibulum ante ipsum primis in faucibus orci luctus et ultrices posuere cubilia curae donec pharetra magna vestibulum aliquet ultrices erat tortor sollicitudin mi sit amet lobortis sapien sapien non mi integer ac neque duis bibendum morbi non',\n",
       " 'tags': 1,\n",
       " 'Category': 'lifestyle',\n",
       " 'filteredPicture': False}"
      ]
     },
     "execution_count": 14,
     "metadata": {},
     "output_type": "execute_result"
    }
   ],
   "source": [
    "# retornando apenas um único item contido dentro da coleção posts\n",
    "\n",
    "posts.find_one()"
   ]
  },
  {
   "cell_type": "raw",
   "id": "a82d9298-9f08-4f4c-a58e-5e1d391f0397",
   "metadata": {},
   "source": [
    "Analisando o item da coleção posts:\n",
    "\n",
    "o arquivo possui 7 \"colunas\": status, creationDate, allowComments, title, description, tags, category e filteredPicture.\n",
    "o identificador _id, é um indenficador único criado pelo próprio mongoDB para indeficadar aquele arquivo (como se fosse a chave primária).\n",
    "\n",
    "status -> o tipo de post (pode ser public ou private).\n",
    "creationDate -> data de criação do post.\n",
    "allowComments -> se o post permite comentários (pode ser true ou false).\n",
    "title -> titulo do post.\n",
    "description -> post.\n",
    "tags -> quantidade palavras chaves para localização via web do post.\n",
    "category -> o tipo de categoria que aquele post pertence.\n",
    "filteredPicture -> se existe algum fitro de imagem."
   ]
  },
  {
   "cell_type": "code",
   "execution_count": 15,
   "id": "21a2b7ed-cdb3-4224-b2d2-1124f426d3c4",
   "metadata": {},
   "outputs": [],
   "source": [
    "# extraindo a quantidade de documentos (posts) que possuem em nosso datalake\n",
    "# e salvando dentro de uma variável python\n",
    "\n",
    "documentos = posts.estimated_document_count()"
   ]
  },
  {
   "cell_type": "code",
   "execution_count": 16,
   "id": "a65f2a1f-afc0-4f1f-b0a9-8dfa879d0733",
   "metadata": {},
   "outputs": [
    {
     "data": {
      "text/plain": [
       "2000"
      ]
     },
     "execution_count": 16,
     "metadata": {},
     "output_type": "execute_result"
    }
   ],
   "source": [
    "# verificando a quantidade de documentos contidos na variável python\n",
    "\n",
    "documentos"
   ]
  },
  {
   "cell_type": "markdown",
   "id": "58c69dd7-12d7-4918-bf3e-398dd3145129",
   "metadata": {},
   "source": [
    "Pré-Processamento e Análise dos dados"
   ]
  },
  {
   "cell_type": "raw",
   "id": "8f1c23c1-a654-4b74-9ed8-524c68c0544f",
   "metadata": {},
   "source": [
    "Agregação para calcular o número de posts em cada categoria"
   ]
  },
  {
   "cell_type": "code",
   "execution_count": 27,
   "id": "99ea88e4-ff09-4247-b5b2-4054b77ff196",
   "metadata": {},
   "outputs": [],
   "source": [
    "# Para saber a quantidade de posts por categoria, terei que fazer uma agregação\n",
    "\n",
    "posts_categoria = posts.aggregate([{'$group': {'_id': '$Category', 'count': {'$sum': 1}}},\n",
    "                                   {'$sort': {'_id.Category': 1, 'count': -1}}])"
   ]
  },
  {
   "cell_type": "code",
   "execution_count": 28,
   "id": "4b54e985-d8ae-4f24-980c-e1b3421ce112",
   "metadata": {},
   "outputs": [
    {
     "name": "stdout",
     "output_type": "stream",
     "text": [
      "<pymongo.command_cursor.CommandCursor object at 0x000001881AA76AC0>\n"
     ]
    }
   ],
   "source": [
    "# Verificando se o objeto foi criado\n",
    "print(posts_categoria)"
   ]
  },
  {
   "cell_type": "code",
   "execution_count": 29,
   "id": "d5fd4140-41ea-48c2-8feb-2d4679f63e51",
   "metadata": {},
   "outputs": [],
   "source": [
    "# Para visualizar o valor da agregação, irei converter essa variável em um dataframe\n",
    "\n",
    "dfpostsCat_agre = pd.DataFrame(list(posts_categoria))"
   ]
  },
  {
   "cell_type": "code",
   "execution_count": 30,
   "id": "b397adbd-e9ba-4cca-a6c8-1f02efc4542e",
   "metadata": {},
   "outputs": [
    {
     "data": {
      "text/html": [
       "<div>\n",
       "<style scoped>\n",
       "    .dataframe tbody tr th:only-of-type {\n",
       "        vertical-align: middle;\n",
       "    }\n",
       "\n",
       "    .dataframe tbody tr th {\n",
       "        vertical-align: top;\n",
       "    }\n",
       "\n",
       "    .dataframe thead th {\n",
       "        text-align: right;\n",
       "    }\n",
       "</style>\n",
       "<table border=\"1\" class=\"dataframe\">\n",
       "  <thead>\n",
       "    <tr style=\"text-align: right;\">\n",
       "      <th></th>\n",
       "      <th>_id</th>\n",
       "      <th>count</th>\n",
       "    </tr>\n",
       "  </thead>\n",
       "  <tbody>\n",
       "    <tr>\n",
       "      <th>0</th>\n",
       "      <td>arts</td>\n",
       "      <td>311</td>\n",
       "    </tr>\n",
       "    <tr>\n",
       "      <th>1</th>\n",
       "      <td>fashion</td>\n",
       "      <td>300</td>\n",
       "    </tr>\n",
       "    <tr>\n",
       "      <th>2</th>\n",
       "      <td>lifestyle</td>\n",
       "      <td>294</td>\n",
       "    </tr>\n",
       "    <tr>\n",
       "      <th>3</th>\n",
       "      <td>movies</td>\n",
       "      <td>289</td>\n",
       "    </tr>\n",
       "    <tr>\n",
       "      <th>4</th>\n",
       "      <td>educational</td>\n",
       "      <td>274</td>\n",
       "    </tr>\n",
       "  </tbody>\n",
       "</table>\n",
       "</div>"
      ],
      "text/plain": [
       "           _id  count\n",
       "0         arts    311\n",
       "1      fashion    300\n",
       "2    lifestyle    294\n",
       "3       movies    289\n",
       "4  educational    274"
      ]
     },
     "execution_count": 30,
     "metadata": {},
     "output_type": "execute_result"
    }
   ],
   "source": [
    "dfpostsCat_agre.head()"
   ]
  },
  {
   "cell_type": "code",
   "execution_count": 31,
   "id": "cf063ac9-f3be-4024-868e-9a6b275560dc",
   "metadata": {},
   "outputs": [
    {
     "data": {
      "text/plain": [
       "<AxesSubplot:ylabel='count'>"
      ]
     },
     "execution_count": 31,
     "metadata": {},
     "output_type": "execute_result"
    },
    {
     "data": {
      "image/png": "[encoded data removed]",
      "text/plain": [
       "<Figure size 640x480 with 1 Axes>"
      ]
     },
     "metadata": {},
     "output_type": "display_data"
    }
   ],
   "source": [
    "# grafico de pizza com participação de cada categoria pelo nº de posts\n",
    "\n",
    "dfpostsCat_agre.plot.pie(y = 'count',\n",
    "                        labels = dfpostsCat_agre['_id'],\n",
    "                        autopct = '%1.1f%%',\n",
    "                        startangle = 15,\n",
    "                        shadow = True,\n",
    "                        legend = False)"
   ]
  },
  {
   "cell_type": "raw",
   "id": "25dd2e13-3808-42b0-83ee-ea9bd25ad8c4",
   "metadata": {},
   "source": [
    "Número de posts públicos e privados da categoria politics"
   ]
  },
  {
   "cell_type": "code",
   "execution_count": 33,
   "id": "d468dd65-d261-4752-867b-5e8ca77e645a",
   "metadata": {},
   "outputs": [],
   "source": [
    "# Para saber a qtde de posts públicos e privados pela categoria politics, terei que fazer uma agregação\n",
    "# nesse caso, como estou especificando qual a categoria que quero, portanto, terei que filtrar a categoria\n",
    "# logo depois fazer a agregação por status (público e privado)\n",
    "\n",
    "postsPolitics_cat = posts.aggregate([{'$match': {'Category': 'politics'}},\n",
    "                                   {'$group': {'_id': '$status', 'count': {'$sum': 1}}}])"
   ]
  },
  {
   "cell_type": "code",
   "execution_count": 34,
   "id": "a66985a2-f052-41b8-afaa-493efc4f970e",
   "metadata": {},
   "outputs": [],
   "source": [
    "# Para visualizar o valor da agregação, irei converter essa variável em um dataframe\n",
    "\n",
    "dfpostsPol_agre = pd.DataFrame(list(postsPolitics_cat))"
   ]
  },
  {
   "cell_type": "code",
   "execution_count": 35,
   "id": "6e26b696-bce3-446b-a8f9-1bd4984ef94a",
   "metadata": {},
   "outputs": [
    {
     "data": {
      "text/html": [
       "<div>\n",
       "<style scoped>\n",
       "    .dataframe tbody tr th:only-of-type {\n",
       "        vertical-align: middle;\n",
       "    }\n",
       "\n",
       "    .dataframe tbody tr th {\n",
       "        vertical-align: top;\n",
       "    }\n",
       "\n",
       "    .dataframe thead th {\n",
       "        text-align: right;\n",
       "    }\n",
       "</style>\n",
       "<table border=\"1\" class=\"dataframe\">\n",
       "  <thead>\n",
       "    <tr style=\"text-align: right;\">\n",
       "      <th></th>\n",
       "      <th>_id</th>\n",
       "      <th>count</th>\n",
       "    </tr>\n",
       "  </thead>\n",
       "  <tbody>\n",
       "    <tr>\n",
       "      <th>0</th>\n",
       "      <td>private</td>\n",
       "      <td>148</td>\n",
       "    </tr>\n",
       "    <tr>\n",
       "      <th>1</th>\n",
       "      <td>public</td>\n",
       "      <td>126</td>\n",
       "    </tr>\n",
       "  </tbody>\n",
       "</table>\n",
       "</div>"
      ],
      "text/plain": [
       "       _id  count\n",
       "0  private    148\n",
       "1   public    126"
      ]
     },
     "execution_count": 35,
     "metadata": {},
     "output_type": "execute_result"
    }
   ],
   "source": [
    "dfpostsPol_agre.head()"
   ]
  },
  {
   "cell_type": "code",
   "execution_count": 36,
   "id": "8f8cf0d6-0d7c-4c39-9491-4fac65cfaa14",
   "metadata": {},
   "outputs": [
    {
     "data": {
      "text/plain": [
       "<AxesSubplot:title={'center':'Qtde de posts Públicos e Privados'}, xlabel='_id'>"
      ]
     },
     "execution_count": 36,
     "metadata": {},
     "output_type": "execute_result"
    },
    {
     "data": {
      "image/png": "[encoded data removed]",
      "text/plain": [
       "<Figure size 640x480 with 1 Axes>"
      ]
     },
     "metadata": {},
     "output_type": "display_data"
    }
   ],
   "source": [
    "dfpostsPol_agre.plot.bar(x = '_id',\n",
    "                        y = 'count',\n",
    "                        title = 'Qtde de posts Públicos e Privados')"
   ]
  },
  {
   "cell_type": "raw",
   "id": "209bbce2-0725-4388-89c5-80b6711c0bbe",
   "metadata": {},
   "source": [
    "Qual ano teve a maior quantidade de posts ?"
   ]
  },
  {
   "cell_type": "code",
   "execution_count": 37,
   "id": "fe41c569-5e75-464c-971c-2a39cfa0d67e",
   "metadata": {},
   "outputs": [
    {
     "data": {
      "text/plain": [
       "{'_id': ObjectId('63d2f372a71284ec921a1e63'),\n",
       " 'status': 'public',\n",
       " 'creationDate': '2017-07-17T20:05:49Z',\n",
       " 'allowComments': True,\n",
       " 'title': 'ligula nec sem duis aliquam',\n",
       " 'description': 'in felis eu sapien cursus vestibulum proin eu mi nulla ac enim in tempor turpis nec euismod scelerisque quam turpis adipiscing lorem vitae mattis nibh ligula nec sem duis aliquam convallis nunc proin at turpis a pede posuere nonummy integer non velit donec diam neque vestibulum eget vulputate ut ultrices vel augue vestibulum ante ipsum primis in faucibus orci luctus et ultrices posuere cubilia curae donec pharetra magna vestibulum aliquet ultrices erat tortor sollicitudin mi sit amet lobortis sapien sapien non mi integer ac neque duis bibendum morbi non',\n",
       " 'tags': 1,\n",
       " 'Category': 'lifestyle',\n",
       " 'filteredPicture': False}"
      ]
     },
     "execution_count": 37,
     "metadata": {},
     "output_type": "execute_result"
    }
   ],
   "source": [
    "# Verificando novamante um documento\n",
    "posts.find_one()"
   ]
  },
  {
   "cell_type": "raw",
   "id": "c49f470f-776f-4669-89c9-3e0d75bd6a47",
   "metadata": {},
   "source": [
    "Ao analisar o nosso arquivo percebo que temos a informação creationDate. Nota-se que temos informações de data e hora nesse campo, mas essa informação não está no formato que queremos, portanto deveremos fazer uma manipulação nessa campo (manipular strings).\n",
    "\n",
    "E padrão desse campo é aaaa-mm-ddThh:mm:ssZ\n",
    "\n",
    "Então iremos fazer dois cortes (split) nessa string, onde irei separar um campo que conterá somente a data e outro somente as horas. Contudo, queremos somente separar o ano e a hora, portanto farei da seguinte forma:\n",
    "\n",
    "Primeiro -> Separar data e hora\n",
    "Segundo -> Separar a hora dos minutos e segundos\n",
    "Terceiro -> Separar o ano da data\n",
    "\n",
    "Delimitadores: traço (-), T (letra T) e dois pontos (:)\n",
    "\n",
    "Para armazenar essa separação, irei criar duas novas colunas (variáveis) em nosso documento, com nomes de year e hour"
   ]
  },
  {
   "cell_type": "code",
   "execution_count": 38,
   "id": "088ac9c7-474d-4590-9002-f794ada0ff1d",
   "metadata": {},
   "outputs": [],
   "source": [
    "datalake.posts.update_many({}, {'$set': {'hour': 0}});\n",
    "datalake.posts.update_many({}, {'$set': {'year': 0}});"
   ]
  },
  {
   "cell_type": "code",
   "execution_count": 39,
   "id": "0b394643-daee-4336-adaa-93b5f82b98a0",
   "metadata": {},
   "outputs": [
    {
     "data": {
      "text/plain": [
       "{'_id': ObjectId('63d2f372a71284ec921a1e63'),\n",
       " 'status': 'public',\n",
       " 'creationDate': '2017-07-17T20:05:49Z',\n",
       " 'allowComments': True,\n",
       " 'title': 'ligula nec sem duis aliquam',\n",
       " 'description': 'in felis eu sapien cursus vestibulum proin eu mi nulla ac enim in tempor turpis nec euismod scelerisque quam turpis adipiscing lorem vitae mattis nibh ligula nec sem duis aliquam convallis nunc proin at turpis a pede posuere nonummy integer non velit donec diam neque vestibulum eget vulputate ut ultrices vel augue vestibulum ante ipsum primis in faucibus orci luctus et ultrices posuere cubilia curae donec pharetra magna vestibulum aliquet ultrices erat tortor sollicitudin mi sit amet lobortis sapien sapien non mi integer ac neque duis bibendum morbi non',\n",
       " 'tags': 1,\n",
       " 'Category': 'lifestyle',\n",
       " 'filteredPicture': False,\n",
       " 'hour': 0,\n",
       " 'year': 0}"
      ]
     },
     "execution_count": 39,
     "metadata": {},
     "output_type": "execute_result"
    }
   ],
   "source": [
    "# Verificando e as novas variáveis foram criadas em nosso documento\n",
    "\n",
    "posts.find_one()"
   ]
  },
  {
   "cell_type": "code",
   "execution_count": 40,
   "id": "7bc869af-95ba-421f-83ae-d11614bf8c68",
   "metadata": {},
   "outputs": [],
   "source": [
    "# Vou criar um interação para varear todo os documentos\n",
    "for doc in posts.find({}):\n",
    "    posts.update_one({'_id': doc['_id']},\n",
    "                     {'$set': {'hour': doc['creationDate'].split('T')[1].split(':')[0],\n",
    "                               'year': doc['creationDate'].split('T')[0].split('-')[0]}})"
   ]
  },
  {
   "cell_type": "code",
   "execution_count": 41,
   "id": "4fd8d55d-ff5f-4c2e-aa06-4b32c2f3710a",
   "metadata": {},
   "outputs": [
    {
     "data": {
      "text/plain": [
       "{'_id': ObjectId('63d2f372a71284ec921a1e63'),\n",
       " 'status': 'public',\n",
       " 'creationDate': '2017-07-17T20:05:49Z',\n",
       " 'allowComments': True,\n",
       " 'title': 'ligula nec sem duis aliquam',\n",
       " 'description': 'in felis eu sapien cursus vestibulum proin eu mi nulla ac enim in tempor turpis nec euismod scelerisque quam turpis adipiscing lorem vitae mattis nibh ligula nec sem duis aliquam convallis nunc proin at turpis a pede posuere nonummy integer non velit donec diam neque vestibulum eget vulputate ut ultrices vel augue vestibulum ante ipsum primis in faucibus orci luctus et ultrices posuere cubilia curae donec pharetra magna vestibulum aliquet ultrices erat tortor sollicitudin mi sit amet lobortis sapien sapien non mi integer ac neque duis bibendum morbi non',\n",
       " 'tags': 1,\n",
       " 'Category': 'lifestyle',\n",
       " 'filteredPicture': False,\n",
       " 'hour': '20',\n",
       " 'year': '2017'}"
      ]
     },
     "execution_count": 41,
     "metadata": {},
     "output_type": "execute_result"
    }
   ],
   "source": [
    "# Verificando e as novas variáveis \"pegaram as strings cortadas\"\n",
    "\n",
    "posts.find_one()"
   ]
  },
  {
   "cell_type": "code",
   "execution_count": 42,
   "id": "fd0078c4-7585-434e-b288-ec5a150ff777",
   "metadata": {},
   "outputs": [],
   "source": [
    "# Agregandos os posts por ano\n",
    "\n",
    "posts_year = posts.aggregate([{'$group': {'_id': '$year', 'count': {'$sum': 1}}},\n",
    "                              {'$sort': {'_id.year': 1, 'count': 1}}])"
   ]
  },
  {
   "cell_type": "code",
   "execution_count": 43,
   "id": "cfa3b2c4-61e3-41ac-8cb4-4c622fa109be",
   "metadata": {},
   "outputs": [
    {
     "data": {
      "text/html": [
       "<div>\n",
       "<style scoped>\n",
       "    .dataframe tbody tr th:only-of-type {\n",
       "        vertical-align: middle;\n",
       "    }\n",
       "\n",
       "    .dataframe tbody tr th {\n",
       "        vertical-align: top;\n",
       "    }\n",
       "\n",
       "    .dataframe thead th {\n",
       "        text-align: right;\n",
       "    }\n",
       "</style>\n",
       "<table border=\"1\" class=\"dataframe\">\n",
       "  <thead>\n",
       "    <tr style=\"text-align: right;\">\n",
       "      <th></th>\n",
       "      <th>_id</th>\n",
       "      <th>count</th>\n",
       "    </tr>\n",
       "  </thead>\n",
       "  <tbody>\n",
       "    <tr>\n",
       "      <th>0</th>\n",
       "      <td>2015</td>\n",
       "      <td>76</td>\n",
       "    </tr>\n",
       "    <tr>\n",
       "      <th>1</th>\n",
       "      <td>2016</td>\n",
       "      <td>299</td>\n",
       "    </tr>\n",
       "    <tr>\n",
       "      <th>2</th>\n",
       "      <td>2019</td>\n",
       "      <td>303</td>\n",
       "    </tr>\n",
       "    <tr>\n",
       "      <th>3</th>\n",
       "      <td>2017</td>\n",
       "      <td>309</td>\n",
       "    </tr>\n",
       "    <tr>\n",
       "      <th>4</th>\n",
       "      <td>2021</td>\n",
       "      <td>330</td>\n",
       "    </tr>\n",
       "    <tr>\n",
       "      <th>5</th>\n",
       "      <td>2020</td>\n",
       "      <td>334</td>\n",
       "    </tr>\n",
       "    <tr>\n",
       "      <th>6</th>\n",
       "      <td>2018</td>\n",
       "      <td>349</td>\n",
       "    </tr>\n",
       "  </tbody>\n",
       "</table>\n",
       "</div>"
      ],
      "text/plain": [
       "    _id  count\n",
       "0  2015     76\n",
       "1  2016    299\n",
       "2  2019    303\n",
       "3  2017    309\n",
       "4  2021    330\n",
       "5  2020    334\n",
       "6  2018    349"
      ]
     },
     "execution_count": 43,
     "metadata": {},
     "output_type": "execute_result"
    }
   ],
   "source": [
    "dfposts_year = pd.DataFrame(list(posts_year))\n",
    "\n",
    "dfposts_year"
   ]
  },
  {
   "cell_type": "code",
   "execution_count": 44,
   "id": "eb3d32a8-091b-4b20-bd76-761fc3ca0b96",
   "metadata": {},
   "outputs": [
    {
     "data": {
      "text/plain": [
       "<AxesSubplot:title={'center':'Nº de posts por ano'}, xlabel='_id'>"
      ]
     },
     "execution_count": 44,
     "metadata": {},
     "output_type": "execute_result"
    },
    {
     "data": {
      "image/png": "[encoded data removed]",
      "text/plain": [
       "<Figure size 640x480 with 1 Axes>"
      ]
     },
     "metadata": {},
     "output_type": "display_data"
    }
   ],
   "source": [
    "dfposts_year.plot.line(x = '_id',\n",
    "                       y = 'count',\n",
    "                       title = 'Nº de posts por ano')"
   ]
  },
  {
   "cell_type": "raw",
   "id": "cc922da3-57c9-4993-a339-a1c1a2921d96",
   "metadata": {},
   "source": [
    "Número de posts que permitem comentários"
   ]
  },
  {
   "cell_type": "code",
   "execution_count": 45,
   "id": "f20469ef-3937-4217-abc8-ea95fa2b9d5f",
   "metadata": {},
   "outputs": [],
   "source": [
    "comentarios = posts.count_documents({'allowComments': True})"
   ]
  },
  {
   "cell_type": "code",
   "execution_count": 46,
   "id": "02c2f89a-a4d1-4c32-b4aa-97ecb01745a3",
   "metadata": {},
   "outputs": [
    {
     "name": "stdout",
     "output_type": "stream",
     "text": [
      "Nº de posts que permitem comentários: 964\n"
     ]
    }
   ],
   "source": [
    "print('Nº de posts que permitem comentários:', comentarios)"
   ]
  },
  {
   "cell_type": "code",
   "execution_count": 53,
   "id": "54d0affb-94d8-4f14-9b9e-5517c3f44074",
   "metadata": {},
   "outputs": [],
   "source": [
    "Ncomentarios = posts.count_documents({'allowComments': False})"
   ]
  },
  {
   "cell_type": "code",
   "execution_count": 54,
   "id": "fa5ba978-71d9-41b3-8363-9bddfd507b3b",
   "metadata": {},
   "outputs": [
    {
     "name": "stdout",
     "output_type": "stream",
     "text": [
      "Nº de posts que não permitem comentários: 1036\n"
     ]
    }
   ],
   "source": [
    "print('Nº de posts que não permitem comentários:', Ncomentarios)"
   ]
  },
  {
   "cell_type": "code",
   "execution_count": 55,
   "id": "59c8c418-3ffb-4d8a-8666-71ffd876bf26",
   "metadata": {},
   "outputs": [
    {
     "data": {
      "text/plain": [
       "Text(0, 0.5, 'Nº de posts')"
      ]
     },
     "execution_count": 55,
     "metadata": {},
     "output_type": "execute_result"
    },
    {
     "data": {
      "image/png": "[encoded data removed]",
      "text/plain": [
       "<Figure size 640x480 with 1 Axes>"
      ]
     },
     "metadata": {},
     "output_type": "display_data"
    }
   ],
   "source": [
    "sns.set_style('darkgrid')\n",
    "x = ['Commented', 'Uncommented']\n",
    "y = [comentarios, Ncomentarios]\n",
    "sns.barplot(x, y, palette = 'twilight_r')\n",
    "plt.title('Nº de posts com e sem comentários')\n",
    "plt.xlabel('Status')\n",
    "plt.ylabel('Nº de posts')"
   ]
  },
  {
   "cell_type": "code",
   "execution_count": null,
   "id": "e493405b-5f6d-4e88-bc05-a5de96be4275",
   "metadata": {},
   "outputs": [],
   "source": []
  }
 ],
 "metadata": {
  "kernelspec": {
   "display_name": "Python 3 (ipykernel)",
   "language": "python",
   "name": "python3"
  },
  "language_info": {
   "codemirror_mode": {
    "name": "ipython",
    "version": 3
   },
   "file_extension": ".py",
   "mimetype": "text/x-python",
   "name": "python",
   "nbconvert_exporter": "python",
   "pygments_lexer": "ipython3",
   "version": "3.9.13"
  },
  "vscode": {
   "interpreter": {
    "hash": "85cdb8965545129243af1e7fde0e0e1163f152bbeacb4a4d838463be037fa552"
   }
  }
 },
 "nbformat": 4,
 "nbformat_minor": 5
}
